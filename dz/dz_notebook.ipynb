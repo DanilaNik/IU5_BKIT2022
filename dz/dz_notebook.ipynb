{
 "cells": [
  {
   "cell_type": "markdown",
   "id": "04fe5084",
   "metadata": {},
   "source": [
    "# DZ числа Фибоначчи"
   ]
  },
  {
   "cell_type": "code",
   "execution_count": 1,
   "id": "90800e6d",
   "metadata": {},
   "outputs": [
    {
     "name": "stdout",
     "output_type": "stream",
     "text": [
      "[0, 1, 1, 2, 3, 5, 8, 13, 21, 34]\n"
     ]
    }
   ],
   "source": [
    "import requests\n",
    "import json\n",
    "r = requests.get('http://localhost:5000/10').json()\n",
    "print(r)\n"
   ]
  },
  {
   "cell_type": "code",
   "execution_count": 2,
   "id": "74a700f6",
   "metadata": {},
   "outputs": [],
   "source": [
    "# Функции для выполнения запроса к сервису\n",
    "\n",
    "def make_url(cnt):\n",
    "    base_url = 'http://127.0.0.1:5000/'\n",
    "    res = base_url + str(cnt)\n",
    "    return res\n",
    "\n",
    "def get_data(cnt):\n",
    "    url = make_url(cnt)\n",
    "    r = requests.get(url)\n",
    "    return r.json()"
   ]
  },
  {
   "cell_type": "code",
   "execution_count": 3,
   "id": "76280259",
   "metadata": {},
   "outputs": [
    {
     "name": "stdout",
     "output_type": "stream",
     "text": [
      "5 первых чисел последовательности Фибоначчи: [0, 1, 1, 2, 3]\n",
      "10 первых чисел последовательности Фибоначчи: [0, 1, 1, 2, 3, 5, 8, 13, 21, 34]\n",
      "15 первых чисел последовательности Фибоначчи: [0, 1, 1, 2, 3, 5, 8, 13, 21, 34, 55, 89, 144, 233, 377]\n",
      "20 первых чисел последовательности Фибоначчи: [0, 1, 1, 2, 3, 5, 8, 13, 21, 34, 55, 89, 144, 233, 377, 610, 987, 1597, 2584, 4181]\n"
     ]
    }
   ],
   "source": [
    "cnt_list = [5, 10, 15, 20]\n",
    "for cnt in cnt_list:\n",
    "    print('{} первых чисел последовательности Фибоначчи: {}'.format(cnt, get_data(cnt)))"
   ]
  },
  {
   "cell_type": "markdown",
   "id": "3b0ed965",
   "metadata": {},
   "source": [
    "# Построение графиков"
   ]
  },
  {
   "cell_type": "code",
   "execution_count": 4,
   "id": "13e73dd3",
   "metadata": {},
   "outputs": [],
   "source": [
    "# Данные для построения \n",
    "y_10 = get_data(10)\n",
    "x_10 = list(range(1, len(y_10)+1))"
   ]
  },
  {
   "cell_type": "code",
   "execution_count": 7,
   "id": "a3e798e3",
   "metadata": {},
   "outputs": [
    {
     "name": "stdout",
     "output_type": "stream",
     "text": [
      "Collecting matplotlib\n",
      "  Using cached matplotlib-3.6.2-cp310-cp310-manylinux_2_17_x86_64.manylinux2014_x86_64.whl (11.8 MB)\n",
      "Requirement already satisfied: python-dateutil>=2.7 in ./myvenv/lib/python3.10/site-packages (from matplotlib) (2.8.2)\n",
      "Collecting fonttools>=4.22.0\n",
      "  Using cached fonttools-4.38.0-py3-none-any.whl (965 kB)\n",
      "Collecting cycler>=0.10\n",
      "  Using cached cycler-0.11.0-py3-none-any.whl (6.4 kB)\n",
      "Requirement already satisfied: numpy>=1.19 in ./myvenv/lib/python3.10/site-packages (from matplotlib) (1.23.5)\n",
      "Collecting contourpy>=1.0.1\n",
      "  Using cached contourpy-1.0.6-cp310-cp310-manylinux_2_17_x86_64.manylinux2014_x86_64.whl (296 kB)\n",
      "Collecting pillow>=6.2.0\n",
      "  Using cached Pillow-9.3.0-cp310-cp310-manylinux_2_28_x86_64.whl (3.3 MB)\n",
      "Requirement already satisfied: packaging>=20.0 in ./myvenv/lib/python3.10/site-packages (from matplotlib) (21.3)\n",
      "Requirement already satisfied: pyparsing>=2.2.1 in ./myvenv/lib/python3.10/site-packages (from matplotlib) (3.0.9)\n",
      "Collecting kiwisolver>=1.0.1\n",
      "  Using cached kiwisolver-1.4.4-cp310-cp310-manylinux_2_12_x86_64.manylinux2010_x86_64.whl (1.6 MB)\n",
      "Requirement already satisfied: six>=1.5 in ./myvenv/lib/python3.10/site-packages (from python-dateutil>=2.7->matplotlib) (1.16.0)\n",
      "Installing collected packages: pillow, kiwisolver, fonttools, cycler, contourpy, matplotlib\n",
      "Successfully installed contourpy-1.0.6 cycler-0.11.0 fonttools-4.38.0 kiwisolver-1.4.4 matplotlib-3.6.2 pillow-9.3.0\n"
     ]
    },
    {
     "data": {
      "image/png": "[encoded data removed]",
      "text/plain": [
       "<Figure size 640x480 with 1 Axes>"
      ]
     },
     "metadata": {},
     "output_type": "display_data"
    }
   ],
   "source": [
    "!pip install matplotlib\n",
    "import numpy as np\n",
    "from matplotlib import pyplot as plt\n",
    "\n",
    "plt.bar(x_10, y_10)\n",
    "plt.xlabel('Ось абсцисс')\n",
    "plt.ylabel('Ось ординат')\n",
    "plt.title('Первые {} чисел последовательности Фибоначчи'.format(len(y_10)))\n",
    "plt.show()"
   ]
  }
 ],
 "metadata": {
  "kernelspec": {
   "display_name": "Python 3 (ipykernel)",
   "language": "python",
   "name": "python3"
  },
  "language_info": {
   "codemirror_mode": {
    "name": "ipython",
    "version": 3
   },
   "file_extension": ".py",
   "mimetype": "text/x-python",
   "name": "python",
   "nbconvert_exporter": "python",
   "pygments_lexer": "ipython3",
   "version": "3.10.6"
  }
 },
 "nbformat": 4,
 "nbformat_minor": 5
}
